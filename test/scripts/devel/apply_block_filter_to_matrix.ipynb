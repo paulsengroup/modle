{
 "cells": [
  {
   "cell_type": "markdown",
   "id": "f2c5564c-4913-45b0-89fa-b3d0f63aafd6",
   "metadata": {},
   "source": [
    "## Notes\n",
    "\n",
    "This notebook was used to generate the test data for \"CMatrix get w/ block small\" in `test/units/contact_matrix/contact_matrix_test.cpp`"
   ]
  },
  {
   "cell_type": "code",
   "execution_count": null,
   "id": "9485d0c4-05e6-4d93-ba85-1225020207f5",
   "metadata": {},
   "outputs": [],
   "source": [
    "import cooler\n",
    "import numpy as np\n",
    "import matplotlib.pyplot as plt\n",
    "%load_ext cython"
   ]
  },
  {
   "cell_type": "code",
   "execution_count": null,
   "id": "25695aff-9cf3-4883-9005-6c917bdd5d96",
   "metadata": {},
   "outputs": [],
   "source": [
    "%%cython -a\n",
    "import numpy as np\n",
    "cimport numpy as np\n",
    "cimport cython\n",
    "\n",
    "DTYPE = np.int32\n",
    "ctypedef np.int32_t DTYPE_t\n",
    "\n",
    "#@cython.boundscheck(False) # turn off bounds-checking for entire function\n",
    "#@cython.wraparound(False)  # turn off negative index wrapping for entire function\n",
    "def fetch_block_of_contacts_cython(np.ndarray[DTYPE_t, ndim=2] pixels, int row, int col, int bs = 9) -> int:\n",
    "    cdef int first_row = row - (bs // 2)\n",
    "    cdef int first_col = col - (bs // 2)\n",
    "    cdef int n = 0\n",
    "    cdef int nrows = pixels.shape[0]\n",
    "    cdef int ncols = pixels.shape[1]\n",
    "        \n",
    "    cdef int i, j, ii, jj\n",
    "    for i in range(first_row, first_row + bs):\n",
    "        for j in range(first_col, first_col + bs):\n",
    "            ii = min(max(0, i), nrows - 1)\n",
    "            jj = min(max(0, j), ncols - 1)\n",
    "            # print(f\"i={i}; j={j}; ii={ii}; jj={jj};\")\n",
    "            n += pixels[ii, jj]\n",
    "    #if n > 50000:\n",
    "    #    print(i, j)\n",
    "    return n\n",
    "\n",
    "\n",
    "#@cython.boundscheck(False) # turn off bounds-checking for entire function\n",
    "#@cython.wraparound(False)  # turn off negative index wrapping for entire function\n",
    "def apply_fetch_block(np.ndarray[DTYPE_t, ndim=2] pixels, int bs = 9):\n",
    "    cdef np.ndarray[DTYPE_t, ndim=2] out = np.empty_like(pixels, dtype=DTYPE)\n",
    "    cdef int i, j\n",
    "    cdef int nrows = pixels.shape[0]\n",
    "    cdef int ncols = pixels.shape[1]\n",
    "    \n",
    "\n",
    "    for i in range(nrows):\n",
    "        for j in range(ncols):\n",
    "            out[i, j] = fetch_block_of_contacts_cython(pixels, i, j, bs)\n",
    "    return out"
   ]
  },
  {
   "cell_type": "code",
   "execution_count": null,
   "id": "95d3b0dd-18c0-499e-a559-861b523782b1",
   "metadata": {},
   "outputs": [],
   "source": [
    "path_to_input_matrix = \"/home/roby/github/modle_data_analysis/003_modle_pert_001/tmp_data/modle/modle_sim_hg38_reference_wo_noise.cool\"\n",
    "chrom_name = \"chr1\"\n",
    "block_size = 9\n",
    "base_output=\"/var/tmp/\""
   ]
  },
  {
   "cell_type": "code",
   "execution_count": null,
   "id": "6aba4ebc-5935-4c1a-9b8d-d53a5a415341",
   "metadata": {},
   "outputs": [],
   "source": [
    "c = cooler.Cooler(path_to_input_matrix)\n",
    "chrom_idx = c.chromnames.index(chrom_name)\n",
    "chrom_length = c.chromsizes[chrom_idx]\n",
    "query = f\"{chrom_name}:0-{chrom_length}\"\n",
    "input_pixels = np.array(c.matrix(balance=False).fetch(query), dtype=np.int32)\n",
    "input_pixels"
   ]
  },
  {
   "cell_type": "code",
   "execution_count": null,
   "id": "ca1478ae-9276-4fdf-818c-be20207b773a",
   "metadata": {},
   "outputs": [],
   "source": [
    "output_pixels = apply_fetch_block(input_pixels, 9)"
   ]
  },
  {
   "cell_type": "code",
   "execution_count": null,
   "id": "bbbe3ad4-942b-4d38-8f95-59f05479ca32",
   "metadata": {},
   "outputs": [],
   "source": [
    "fig, axs = plt.subplots(1, 2, figsize=(2* 6.4, 6.4))\n",
    "axs[0].imshow(input_pixels[:300,:300])\n",
    "axs[1].imshow(output_pixels[:300,:300])"
   ]
  },
  {
   "cell_type": "code",
   "execution_count": null,
   "id": "78c8b92e-3d88-4429-acea-985e4f59c907",
   "metadata": {},
   "outputs": [],
   "source": [
    "#np.savetxt(f\"{base_out}/contacts_{chrom_name}_raw.tsv.gz\", contacts, delimiter=\"\\t\", fmt=\"%d\")\n",
    "#np.savetxt(f\"{base_out}/contacts_{chrom_name}_bs9.tsv.gz\", test, delimiter=\"\\t\", fmt=\"%d\")\n",
    "\n",
    "np.savetxt(f\"{base_out}/contacts_{chrom_name}_raw_small.tsv\", contacts[:81,:81], delimiter=\"\\t\", fmt=\"%d\")\n",
    "np.savetxt(f\"{base_out}/contacts_{chrom_name}_bs9_small.tsv\", apply_fetch_block(contacts[:81,:81], 9), delimiter=\"\\t\", fmt=\"%d\")"
   ]
  }
 ],
 "metadata": {
  "kernelspec": {
   "display_name": "hic-venv",
   "language": "python",
   "name": "hic-venv"
  },
  "language_info": {
   "codemirror_mode": {
    "name": "ipython",
    "version": 3
   },
   "file_extension": ".py",
   "mimetype": "text/x-python",
   "name": "python",
   "nbconvert_exporter": "python",
   "pygments_lexer": "ipython3",
   "version": "3.9.7"
  }
 },
 "nbformat": 4,
 "nbformat_minor": 5
}
